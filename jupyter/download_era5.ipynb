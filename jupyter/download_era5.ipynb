{
 "cells": [
  {
   "cell_type": "markdown",
   "id": "f08412fa",
   "metadata": {},
   "source": [
    "# Download ERA5 Data\n",
    "Use cdsapi to download weather data from our target location. Because of limitations on the number of data points that can be taken from ERA5 in a single API call, only 3 variables can be chosen at a single time. \n",
    "\n",
    "@param output_file: name of output file for the weather data  \n",
    "@param output_directory: output directory for the netCDF file  \n",
    "@years: list input of the years of data wanted, must be a three year interval  \n",
    "@location: list input (NEEDS FOUR INPUTS) with format [North, West, South, East], defaults to Seoul, Korea   \n",
    "@param wind: bool for downloading wind values, defaults to False   \n",
    "@param radiation: bool for surface solar radiation downwards, defaults to True     \n",
    "@param temperature: bool for 2 meter temperature, defaults to True    \n",
    "@param pressure: bool for surface pressure, defaults to False   \n"
   ]
  },
  {
   "cell_type": "code",
   "execution_count": 1,
   "id": "597ef109",
   "metadata": {},
   "outputs": [],
   "source": [
    "import cdsapi\n",
    "import os\n",
    "\n",
    "WX_FILE = \"wx_file\"\n",
    "WX_DIRI = %pwd"
   ]
  },
  {
   "cell_type": "code",
   "execution_count": 2,
   "id": "76195478",
   "metadata": {},
   "outputs": [],
   "source": [
    "def download_wx_data(output_file=WX_FILE, output_directory=WX_DIRI, \n",
    " years=[2017, 2018, 2019], location=[37.75, 127, 37.25, 127.5],\n",
    " radiation=True, temperature=True, pressure=False, wind=False, precipitation=False): \n",
    "    if (radiation + temperature + pressure + wind) > 3:\n",
    "        raise Exception(\"WX DOWNLOAD: More than 3 weather variables chosen, please limit selection to three total.\")\n",
    "\n",
    "    if len(years) != 3:\n",
    "        raise Exception(\"WX DOWNLOAD: Cannot download more than 3 years worth of data.\")\n",
    "\n",
    "    years = [str(i) for i in years]\n",
    "\n",
    "    output_path = os.path.join(output_directory, output_file)\n",
    "\n",
    "    variables = [\"10m_u_component_of_wind\", \"10m_v_component_of_wind\",\n",
    "     \"2m_temperature\", \"surface_solar_radiation_downwards\", \"total_precipitation\"]\n",
    "\n",
    "    selection = [wind, wind,\n",
    "     temperature, radiation, precipitation]\n",
    "\n",
    "    selected_variables = []\n",
    "\n",
    "    # Added selected variables to a list\n",
    "    for var, sel in zip(variables, selection):\n",
    "        if sel:\n",
    "            selected_variables.append(var)\n",
    "\n",
    "    c = cdsapi.Client()\n",
    "\n",
    "    c.retrieve(\n",
    "        'reanalysis-era5-land',\n",
    "        {\n",
    "            'variable': selected_variables,\n",
    "            'year': [\n",
    "                years[0], years[1], years[2]\n",
    "            ],\n",
    "            'month': [\n",
    "                '01', '02', '03',\n",
    "                '04', '05', '06',\n",
    "                '07', '08', '09',\n",
    "                '10', '11', '12',\n",
    "            ],\n",
    "            'day': [\n",
    "                '01', '02', '03',\n",
    "                '04', '05', '06',\n",
    "                '07', '08', '09',\n",
    "                '10', '11', '12',\n",
    "                '13', '14', '15',\n",
    "                '16', '17', '18',\n",
    "                '19', '20', '21',\n",
    "                '22', '23', '24',\n",
    "                '25', '26', '27',\n",
    "                '28', '29', '30',\n",
    "                '31',\n",
    "            ],\n",
    "            'time': [\n",
    "                '00:00', '01:00', '02:00',\n",
    "                '03:00', '04:00', '05:00',\n",
    "                '06:00', '07:00', '08:00',\n",
    "                '09:00', '10:00', '11:00',\n",
    "                '12:00', '13:00', '14:00',\n",
    "                '15:00', '16:00', '17:00',\n",
    "                '18:00', '19:00', '20:00',\n",
    "                '21:00', '22:00', '23:00',\n",
    "            ],\n",
    "            'area': [\n",
    "                location[0], location[1], location[2], location[3],\n",
    "            ],\n",
    "            'format': 'netcdf',\n",
    "        },\n",
    "        output_path)\n",
    "    \n",
    "    return output_path\n",
    "    \n",
    "    \n"
   ]
  },
  {
   "cell_type": "code",
   "execution_count": 4,
   "id": "fa6f5926",
   "metadata": {},
   "outputs": [
    {
     "name": "stderr",
     "output_type": "stream",
     "text": [
      "2022-06-11 20:56:34,860 INFO Welcome to the CDS\n",
      "2022-06-11 20:56:34,860 INFO Sending request to https://cds.climate.copernicus.eu/api/v2/resources/reanalysis-era5-land\n",
      "2022-06-11 20:56:35,051 INFO Request is queued\n",
      "2022-06-11 20:56:36,687 INFO Request is running\n"
     ]
    }
   ],
   "source": [
    "download_wx_data(precipitation=True)"
   ]
  },
  {
   "cell_type": "code",
   "execution_count": null,
   "id": "12a9ce80",
   "metadata": {},
   "outputs": [],
   "source": []
  }
 ],
 "metadata": {
  "interpreter": {
   "hash": "eeaf080965a2fa4526616a6825a7ae5e1aa772617450ce3e0570ac13d85c8ead"
  },
  "kernelspec": {
   "display_name": "Python 3.9.12 ('base')",
   "language": "python",
   "name": "python3"
  },
  "language_info": {
   "codemirror_mode": {
    "name": "ipython",
    "version": 3
   },
   "file_extension": ".py",
   "mimetype": "text/x-python",
   "name": "python",
   "nbconvert_exporter": "python",
   "pygments_lexer": "ipython3",
   "version": "3.9.12"
  }
 },
 "nbformat": 4,
 "nbformat_minor": 5
}
